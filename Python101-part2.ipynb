{
 "cells": [
  {
   "cell_type": "markdown",
   "metadata": {},
   "source": [
    "# Python101 - part 2\n",
    "\n",
    "### Decorators, context managers, error handling\n",
    "\n",
    "Mentoring material for a better understanding of some python basic concepts"
   ]
  },
  {
   "cell_type": "markdown",
   "metadata": {},
   "source": [
    "## Decorators"
   ]
  },
  {
   "cell_type": "code",
   "execution_count": 1,
   "metadata": {},
   "outputs": [],
   "source": [
    "# just a function taking a function as argument (and usually returning a function)\n",
    "def my_decorator(fn):\n",
    "    def decorated_fn(*args, **kwargs):\n",
    "        print('args:', args, 'kwargs:', kwargs)\n",
    "        result = fn(*args, **kwargs)\n",
    "        print('result:', result)\n",
    "        return result\n",
    "    return decorated_fn"
   ]
  },
  {
   "cell_type": "code",
   "execution_count": 2,
   "metadata": {},
   "outputs": [
    {
     "name": "stdout",
     "output_type": "stream",
     "text": [
      "args: (55,) kwargs: {'y': 1}\n",
      "x: 55 y: 1\n",
      "result: 111\n"
     ]
    },
    {
     "data": {
      "text/plain": [
       "111"
      ]
     },
     "execution_count": 2,
     "metadata": {},
     "output_type": "execute_result"
    }
   ],
   "source": [
    "# without synctactic sugar\n",
    "\n",
    "def func1(x, y):\n",
    "    print('x:', x, 'y:', y)\n",
    "    return 2 * x + y\n",
    "\n",
    "func1 = my_decorator(func1)\n",
    "\n",
    "func1(55, y=1)"
   ]
  },
  {
   "cell_type": "code",
   "execution_count": 3,
   "metadata": {},
   "outputs": [
    {
     "name": "stdout",
     "output_type": "stream",
     "text": [
      "args: (55,) kwargs: {'y': 1}\n",
      "x: 55 y: 1\n",
      "result: 111\n"
     ]
    },
    {
     "data": {
      "text/plain": [
       "111"
      ]
     },
     "execution_count": 3,
     "metadata": {},
     "output_type": "execute_result"
    }
   ],
   "source": [
    "# with synctactic sugar (exactly the same!)\n",
    "\n",
    "@my_decorator\n",
    "def func2(x, y):\n",
    "    print('x:', x, 'y:', y)\n",
    "    return 2 * x + y\n",
    "\n",
    "func2(55, y=1)"
   ]
  },
  {
   "cell_type": "markdown",
   "metadata": {},
   "source": [
    "> Don't confuse the syncatic sugar and the concept"
   ]
  },
  {
   "cell_type": "code",
   "execution_count": 4,
   "metadata": {},
   "outputs": [
    {
     "name": "stdout",
     "output_type": "stream",
     "text": [
      "decorated_fn\n",
      "decorated_fn\n",
      "<function my_decorator.<locals>.decorated_fn at 0x1040b6620>\n",
      "<function my_decorator.<locals>.decorated_fn at 0x1040b6c80>\n"
     ]
    }
   ],
   "source": [
    "# but we have some issues:\n",
    "print(func1.__name__)\n",
    "print(func2.__name__)\n",
    "print(func1)\n",
    "print(func2)"
   ]
  },
  {
   "cell_type": "code",
   "execution_count": 5,
   "metadata": {},
   "outputs": [],
   "source": [
    "# we'll need some help!\n",
    "from functools import wraps\n",
    "\n",
    "# functools.wraps is a base util to create clean decorators!"
   ]
  },
  {
   "cell_type": "code",
   "execution_count": 6,
   "metadata": {},
   "outputs": [
    {
     "name": "stdout",
     "output_type": "stream",
     "text": [
      "func3\n",
      "<function func3 at 0x1040b6840>\n"
     ]
    }
   ],
   "source": [
    "# just a function taking a function as argument (and returning a function)\n",
    "def my_decorator_wrapped(fn):\n",
    "    @wraps(fn)\n",
    "    def decorated_fn(*args, **kwargs):\n",
    "        print('args:', args, 'kwargs:', kwargs)\n",
    "        result = fn(*args, **kwargs)\n",
    "        print('result:', result)\n",
    "        return result\n",
    "    return decorated_fn\n",
    "\n",
    "@my_decorator_wrapped\n",
    "def func3(x, y):\n",
    "    \"\"\"\n",
    "    Solves all your problems.\n",
    "    Doubles everything.\n",
    "    \"\"\"\n",
    "    print('x:', x, 'y:', y)\n",
    "    return 2 * x + y\n",
    "\n",
    "# now we're fine!\n",
    "print(func3.__name__)\n",
    "print(func3)"
   ]
  },
  {
   "cell_type": "code",
   "execution_count": 7,
   "metadata": {},
   "outputs": [
    {
     "data": {
      "text/plain": [
       "'\\n    Solves all your problems.\\n    Doubles everything.\\n    '"
      ]
     },
     "execution_count": 7,
     "metadata": {},
     "output_type": "execute_result"
    }
   ],
   "source": [
    "# also keeps the docstring untouched:\n",
    "func3.__doc__"
   ]
  },
  {
   "cell_type": "code",
   "execution_count": 8,
   "metadata": {},
   "outputs": [
    {
     "name": "stdout",
     "output_type": "stream",
     "text": [
      "args: (32,) kwargs: {'y': 1}\n",
      "x: 32 y: 1\n",
      "result: 65\n"
     ]
    },
    {
     "data": {
      "text/plain": [
       "65"
      ]
     },
     "execution_count": 8,
     "metadata": {},
     "output_type": "execute_result"
    }
   ],
   "source": [
    "# the behaviour is unchanged\n",
    "func3(32, y=1)"
   ]
  },
  {
   "cell_type": "markdown",
   "metadata": {},
   "source": [
    "### Decorators != Decorator factories"
   ]
  },
  {
   "cell_type": "code",
   "execution_count": 9,
   "metadata": {},
   "outputs": [],
   "source": [
    "# a decorator: takes a function as parameter\n",
    "\n",
    "@my_decorator_wrapped\n",
    "def func4():\n",
    "    pass"
   ]
  },
  {
   "cell_type": "code",
   "execution_count": 10,
   "metadata": {},
   "outputs": [
    {
     "name": "stdout",
     "output_type": "stream",
     "text": [
      "before: my-name\n",
      "fn\n",
      "after: my-name\n"
     ]
    }
   ],
   "source": [
    "# a decorator factory: takes parameters and returns a decorator\n",
    "\n",
    "def my_decorator_factory(name):\n",
    "    def my_decorator(fn):\n",
    "        @wraps(fn)\n",
    "        def decorated_fn(*args, **kwargs):\n",
    "            print('before:', name)\n",
    "            result = fn(*args, **kwargs)\n",
    "            print('after:', name)\n",
    "            return result\n",
    "        return decorated_fn\n",
    "    return my_decorator\n",
    "\n",
    "@my_decorator_factory('my-name')\n",
    "def func5():\n",
    "    print('fn')\n",
    "\n",
    "func5()"
   ]
  },
  {
   "cell_type": "markdown",
   "metadata": {},
   "source": [
    "> `my_decorator_factory` is a decorator factory\n",
    "\n",
    "> `my_decorator_factory('my-name')` is a decorator\n",
    "\n",
    "> `my_decorator_factory('my-name')(some_function)` is a decorated function"
   ]
  },
  {
   "cell_type": "markdown",
   "metadata": {},
   "source": [
    "### Decorators don't have to return functions!"
   ]
  },
  {
   "cell_type": "code",
   "execution_count": 11,
   "metadata": {},
   "outputs": [
    {
     "name": "stdout",
     "output_type": "stream",
     "text": [
      "preparing...\n"
     ]
    },
    {
     "data": {
      "text/plain": [
       "'TOTO'"
      ]
     },
     "execution_count": 11,
     "metadata": {},
     "output_type": "execute_result"
    }
   ],
   "source": [
    "# \"fun\" example (don't use this!):\n",
    "\n",
    "def iife(fn):\n",
    "    \"\"\"\n",
    "    JS-like IIFE (Immediately Invoked Function Expressions)\n",
    "    \"\"\"\n",
    "    return fn()\n",
    "\n",
    "@iife\n",
    "def toto():\n",
    "    print('preparing...')\n",
    "    return 'toto'.upper()\n",
    "\n",
    "toto  # = iife(toto) = toto()"
   ]
  },
  {
   "cell_type": "markdown",
   "metadata": {},
   "source": [
    "## Context managers"
   ]
  },
  {
   "cell_type": "code",
   "execution_count": 12,
   "metadata": {},
   "outputs": [
    {
     "name": "stdout",
     "output_type": "stream",
     "text": [
      "> before\n",
      "> finally\n",
      "name 'crash_because_not_defined' is not defined\n"
     ]
    }
   ],
   "source": [
    "# typical use case: manage resources (files, db connections...)\n",
    "# (think \"defer\" in golang, \"finally\" in JS/python)\n",
    "\n",
    "def crash():\n",
    "    print('> before')\n",
    "    \n",
    "    try:\n",
    "        crash_because_not_defined()\n",
    "    finally:\n",
    "        print('> finally')  # will be called\n",
    "\n",
    "    print('> after')  # will not be called!\n",
    "\n",
    "try:\n",
    "    crash()\n",
    "except NameError as err:\n",
    "    print(err)"
   ]
  },
  {
   "cell_type": "code",
   "execution_count": 13,
   "metadata": {},
   "outputs": [
    {
     "name": "stdout",
     "output_type": "stream",
     "text": [
      "> before\n",
      "> enter the danger zone\n",
      "> got cm: THE DANGER ZONE\n",
      "> exit the danger zone\n",
      "name 'crash_because_not_defined' is not defined\n"
     ]
    }
   ],
   "source": [
    "# can be implemented with a class implementing two methods: __enter__ & __exit__\n",
    "\n",
    "class MyContextManager:\n",
    "    def __init__(self, name):\n",
    "        self.name = name\n",
    "\n",
    "    def __enter__(self):\n",
    "        print(f'> enter {self.name}')\n",
    "        return self.name.upper()\n",
    "\n",
    "    def __exit__(self, *args):\n",
    "        print(f'> exit {self.name}')\n",
    "\n",
    "\n",
    "    \n",
    "def crash():\n",
    "    print('> before')\n",
    "    \n",
    "    with MyContextManager('the danger zone') as cm:\n",
    "        print(f'> got cm: {cm}')\n",
    "        crash_because_not_defined()\n",
    "\n",
    "    print('> after')  # will not be called!\n",
    "\n",
    "try:\n",
    "    crash()\n",
    "except NameError as err:\n",
    "    print(err)"
   ]
  },
  {
   "cell_type": "code",
   "execution_count": 14,
   "metadata": {},
   "outputs": [
    {
     "data": {
      "text/plain": [
       "'pierre@gmail.com\\npierre@hotmail.com\\npierre@yopmail.com\\npaul@gmail.com\\n'"
      ]
     },
     "execution_count": 14,
     "metadata": {},
     "output_type": "execute_result"
    }
   ],
   "source": [
    "# real world example: open a file\n",
    "\n",
    "emails = ['pierre@gmail.com', 'pierre@hotmail.com', 'pierre@yopmail.com', 'paul@gmail.com']\n",
    "\n",
    "with open('/tmp/python_rocks.txt', 'w') as my_file:\n",
    "    for email in emails:\n",
    "        print(email, file=my_file)\n",
    "\n",
    "\n",
    "with open('/tmp/python_rocks.txt', 'r') as my_file:\n",
    "    saved = my_file.read()\n",
    "\n",
    "saved  # \"saved\" still exists, but \"my_file\" is closed"
   ]
  },
  {
   "cell_type": "code",
   "execution_count": 15,
   "metadata": {},
   "outputs": [
    {
     "name": "stdout",
     "output_type": "stream",
     "text": [
      "I/O operation on closed file.\n"
     ]
    }
   ],
   "source": [
    "# the file is closed outside of the context manager (you shouldn't even access the variable...)\n",
    "try:\n",
    "    my_file.read()\n",
    "except ValueError as err:\n",
    "    print(err)"
   ]
  },
  {
   "cell_type": "code",
   "execution_count": 16,
   "metadata": {},
   "outputs": [
    {
     "name": "stdout",
     "output_type": "stream",
     "text": [
      "path: /var/folders/zv/mdh8jytn257dtlj6qknszfnm0000gp/T/tmp8jbykopw\n",
      "file_exists: True\n",
      "stored: b'Hello world!'\n",
      "file_exists: False\n"
     ]
    }
   ],
   "source": [
    "# another example: welcome tempfile!\n",
    "# extract from https://docs.python.org/3.6/library/tempfile.html#examples\n",
    "import tempfile\n",
    "import os\n",
    "\n",
    "with tempfile.NamedTemporaryFile() as fp:\n",
    "    fp.write(b'Hello world!')\n",
    "    temp_path = fp.name\n",
    "    print('path:', temp_path)\n",
    "    \n",
    "    file_exists = os.path.isfile(temp_path)\n",
    "    print('file_exists:', file_exists)\n",
    "    \n",
    "    fp.seek(0)\n",
    "    stored = fp.read()\n",
    "    print('stored:', stored)\n",
    "\n",
    "file_exists = os.path.isfile(temp_path)\n",
    "print('file_exists:', file_exists)"
   ]
  },
  {
   "cell_type": "markdown",
   "metadata": {},
   "source": [
    "## Error handling"
   ]
  },
  {
   "cell_type": "markdown",
   "metadata": {},
   "source": [
    "### Be specific\n",
    "\n",
    "Always catch the error you expect, close to where you expect it"
   ]
  },
  {
   "cell_type": "code",
   "execution_count": 17,
   "metadata": {},
   "outputs": [
    {
     "data": {
      "text/plain": [
       "[55, 'default_value', 'default_value']"
      ]
     },
     "execution_count": 17,
     "metadata": {},
     "output_type": "execute_result"
    }
   ],
   "source": [
    "def get_nested_key_safe(d: dict):\n",
    "    try:\n",
    "        return d['nested']['key']\n",
    "    except KeyError:\n",
    "        return 'default_value'\n",
    "\n",
    "[get_nested_key_safe(d) for d in [{'nested': {'key': 55}}, {'nested': {}}, {}]]"
   ]
  },
  {
   "cell_type": "markdown",
   "metadata": {},
   "source": [
    "### Let it raise\n",
    "\n",
    "Don't try/except something that is not supposed to happen, and you can't do anything intelligent about it"
   ]
  },
  {
   "cell_type": "code",
   "execution_count": 18,
   "metadata": {},
   "outputs": [
    {
     "name": "stdout",
     "output_type": "stream",
     "text": [
      "KeyError('nested',)\n"
     ]
    }
   ],
   "source": [
    " # if this is always supposed to be present, don't try to handle the case it isn't\n",
    "def get_nested_key(d: dict):\n",
    "    return d['nested']['key']\n",
    "\n",
    "try:\n",
    "    get_nested_key({})  # raises a very clear KeyError('nested')\n",
    "except Exception as err:\n",
    "    print(repr(err))"
   ]
  },
  {
   "cell_type": "code",
   "execution_count": 19,
   "metadata": {},
   "outputs": [
    {
     "name": "stdout",
     "output_type": "stream",
     "text": [
      "AttributeError(\"'NoneType' object has no attribute 'get'\",)\n"
     ]
    }
   ],
   "source": [
    "# the same is true for dict.get, which is a hidden try/except\n",
    "# it is not always relevant and often abused\n",
    "\n",
    "def get_nested_key_bad(d: dict):\n",
    "    return d.get('nested').get('key')\n",
    "\n",
    "try:\n",
    "    get_nested_key_bad({})  # raises an impossible to exploit TypeError\n",
    "except Exception as err:\n",
    "    print(repr(err))"
   ]
  },
  {
   "cell_type": "markdown",
   "metadata": {},
   "source": [
    "### EAFP: Easier to Ask for Forgiveness than Permission\n",
    "\n",
    "More on this in the awesome [Python Anti-Patterns book](https://docs.quantifiedcode.com/python-anti-patterns/readability/asking_for_permission_instead_of_forgiveness_when_working_with_files.html)"
   ]
  },
  {
   "cell_type": "code",
   "execution_count": 20,
   "metadata": {},
   "outputs": [
    {
     "name": "stdout",
     "output_type": "stream",
     "text": [
      "fallbacking...\n"
     ]
    },
    {
     "data": {
      "text/plain": [
       "'SOME_DEFAULT'"
      ]
     },
     "execution_count": 20,
     "metadata": {},
     "output_type": "execute_result"
    }
   ],
   "source": [
    "# bad non-idiomatic implementation\n",
    "\n",
    "def bad_load_from_file(filename):\n",
    "    if os.path.isfile(filename):\n",
    "        with open(filename) as f:\n",
    "            return f.read()\n",
    "    else:\n",
    "        print('fallbacking...')\n",
    "        return 'SOME_DEFAULT'\n",
    "\n",
    "bad_load_from_file('/tmp/doesnotexist.txt')"
   ]
  },
  {
   "cell_type": "code",
   "execution_count": 21,
   "metadata": {},
   "outputs": [
    {
     "name": "stdout",
     "output_type": "stream",
     "text": [
      "fallbacking...\n"
     ]
    },
    {
     "data": {
      "text/plain": [
       "'SOME_DEFAULT'"
      ]
     },
     "execution_count": 21,
     "metadata": {},
     "output_type": "execute_result"
    }
   ],
   "source": [
    "# EAFP implementation\n",
    "\n",
    "def eafp_load_from_file(filename):\n",
    "    try:\n",
    "        with open(filename) as f:\n",
    "            return f.read()\n",
    "    except OSError:\n",
    "        print('fallbacking...')\n",
    "        return 'SOME_DEFAULT'\n",
    "\n",
    "eafp_load_from_file('/tmp/doesnotexist.txt')"
   ]
  },
  {
   "cell_type": "markdown",
   "metadata": {},
   "source": [
    "> Of course, not only a Python thing! This philosophy prevents race conditions!"
   ]
  },
  {
   "cell_type": "markdown",
   "metadata": {},
   "source": [
    "### Custom error handling (e.g. for business logic)"
   ]
  },
  {
   "cell_type": "code",
   "execution_count": 22,
   "metadata": {},
   "outputs": [
    {
     "data": {
      "text/plain": [
       "__main__.FooError(500)"
      ]
     },
     "execution_count": 22,
     "metadata": {},
     "output_type": "execute_result"
    }
   ],
   "source": [
    "# define your own error type inheriting from Exception:\n",
    "class FooError(Exception):\n",
    "    pass\n",
    "\n",
    "def foo():\n",
    "    raise FooError(500)\n",
    "\n",
    "err = None\n",
    "try:\n",
    "    foo()\n",
    "# catch regarding the exception types you expect:\n",
    "except FooError as e:\n",
    "    err = e\n",
    "\n",
    "err"
   ]
  }
 ],
 "metadata": {
  "kernelspec": {
   "display_name": "Python 3",
   "language": "python",
   "name": "python3"
  },
  "language_info": {
   "codemirror_mode": {
    "name": "ipython",
    "version": 3
   },
   "file_extension": ".py",
   "mimetype": "text/x-python",
   "name": "python",
   "nbconvert_exporter": "python",
   "pygments_lexer": "ipython3",
   "version": "3.6.4"
  }
 },
 "nbformat": 4,
 "nbformat_minor": 2
}
