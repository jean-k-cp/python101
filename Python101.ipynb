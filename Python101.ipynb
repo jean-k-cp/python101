{
 "cells": [
  {
   "cell_type": "markdown",
   "metadata": {},
   "source": [
    "# Python101\n",
    "\n",
    "Mentoring material for python basics"
   ]
  },
  {
   "cell_type": "markdown",
   "metadata": {},
   "source": [
    "## Generators"
   ]
  },
  {
   "cell_type": "code",
   "execution_count": 1,
   "metadata": {},
   "outputs": [
    {
     "name": "stdout",
     "output_type": "stream",
     "text": [
      "start\n",
      "0\n",
      "1\n",
      "2\n",
      "end\n"
     ]
    }
   ],
   "source": [
    "def my_generator_func():\n",
    "    yield 'start'\n",
    "    for i in range(3):\n",
    "        yield i\n",
    "    yield 'end'\n",
    "    return 'done'\n",
    "\n",
    "for item in my_generator_func():\n",
    "    print(item)"
   ]
  },
  {
   "cell_type": "code",
   "execution_count": 2,
   "metadata": {},
   "outputs": [
    {
     "data": {
      "text/plain": [
       "['start', 0, 1, 2, 'end']"
      ]
     },
     "execution_count": 2,
     "metadata": {},
     "output_type": "execute_result"
    }
   ],
   "source": [
    "# retrieve all elements from a generator\n",
    "list(my_generator_func())"
   ]
  },
  {
   "cell_type": "markdown",
   "metadata": {},
   "source": [
    "### Generator != Generator function"
   ]
  },
  {
   "cell_type": "code",
   "execution_count": 3,
   "metadata": {},
   "outputs": [
    {
     "name": "stdout",
     "output_type": "stream",
     "text": [
      "next: start\n",
      "next: 0\n",
      "next: 1\n",
      "remaining: [2, 'end']\n",
      "remaining: []\n"
     ]
    }
   ],
   "source": [
    "# the generator is stateful\n",
    "my_generator = my_generator_func()\n",
    "\n",
    "print('next:', next(my_generator))\n",
    "print('next:', next(my_generator))\n",
    "print('next:', next(my_generator))\n",
    "print('remaining:', list(my_generator))\n",
    "print('remaining:', list(my_generator))"
   ]
  },
  {
   "cell_type": "code",
   "execution_count": 4,
   "metadata": {},
   "outputs": [
    {
     "name": "stdout",
     "output_type": "stream",
     "text": [
      "new call: ['start', 0, 1, 2, 'end']\n",
      "new call: ['start', 0, 1, 2, 'end']\n"
     ]
    }
   ],
   "source": [
    "# the generator function returns a new generator each time\n",
    "print('new call:', list(my_generator_func()))\n",
    "print('new call:', list(my_generator_func()))"
   ]
  },
  {
   "cell_type": "markdown",
   "metadata": {},
   "source": [
    "### Generators can be inifinite!"
   ]
  },
  {
   "cell_type": "code",
   "execution_count": 5,
   "metadata": {},
   "outputs": [
    {
     "name": "stdout",
     "output_type": "stream",
     "text": [
      "next1: 0\n",
      "next1: 1\n",
      "next1: 2\n",
      "next1: 3\n"
     ]
    }
   ],
   "source": [
    "# does not have to be finite\n",
    "def new_counter():\n",
    "    i = 0\n",
    "    while True:\n",
    "        yield i\n",
    "        i += 1\n",
    "\n",
    "counter1 = new_counter()\n",
    "print('next1:', next(counter1))\n",
    "print('next1:', next(counter1))\n",
    "print('next1:', next(counter1))\n",
    "print('next1:', next(counter1))"
   ]
  },
  {
   "cell_type": "code",
   "execution_count": 6,
   "metadata": {},
   "outputs": [
    {
     "name": "stdout",
     "output_type": "stream",
     "text": [
      "next2: 0\n",
      "next2: 1\n",
      "next2: 2\n"
     ]
    }
   ],
   "source": [
    "# already exists in stdlib's itertools!\n",
    "# https://docs.python.org/3/library/itertools.html#itertools.count\n",
    "import itertools\n",
    "        \n",
    "counter2 = itertools.count()\n",
    "\n",
    "print('next2:', next(counter2))\n",
    "print('next2:', next(counter2))\n",
    "print('next2:', next(counter2))"
   ]
  },
  {
   "cell_type": "code",
   "execution_count": 7,
   "metadata": {},
   "outputs": [],
   "source": [
    "# DON'T DO THIS THOUGH!\n",
    "# list(counter2)"
   ]
  },
  {
   "cell_type": "markdown",
   "metadata": {},
   "source": [
    "### Generators make lazy evaluation possible"
   ]
  },
  {
   "cell_type": "code",
   "execution_count": 8,
   "metadata": {},
   "outputs": [
    {
     "name": "stdout",
     "output_type": "stream",
     "text": [
      "take 5: [0, 1, 2, 3, 4]\n",
      "take 8: [5, 6, 7, 8, 9, 10, 11, 12]\n"
     ]
    }
   ],
   "source": [
    "def take(n, iterable):\n",
    "    \"\"\"\n",
    "    Return first n items of the iterable as a list\n",
    "    from https://docs.python.org/3/library/itertools.html#recipes\n",
    "    \"\"\"\n",
    "    return list(itertools.islice(iterable, n))\n",
    "\n",
    "counter3 = itertools.count()\n",
    "print('take 5:', take(5, counter3))\n",
    "print('take 8:', take(8, counter3))"
   ]
  },
  {
   "cell_type": "code",
   "execution_count": 9,
   "metadata": {},
   "outputs": [
    {
     "name": "stdout",
     "output_type": "stream",
     "text": [
      "filtered: <generator object <genexpr> at 0x10f386f68>\n",
      "squared: <generator object <genexpr> at 0x10f386d58>\n",
      "processing... 0\n",
      "processing... 1\n",
      "processing... 2\n",
      "processing... 3\n",
      "evaluated: [1, 9]\n"
     ]
    }
   ],
   "source": [
    "import time\n",
    "\n",
    "def heavy_generator():\n",
    "    for i in range(4):\n",
    "        time.sleep(0.15)\n",
    "        print('processing...', i)\n",
    "        yield i\n",
    "\n",
    "filtered = (x for x in heavy_generator() if x % 2)\n",
    "print('filtered:', filtered)\n",
    "\n",
    "squared = (x ** 2 for x in filtered)\n",
    "print('squared:', squared)\n",
    "\n",
    "evaluated = list(squared)  # not evaluated until here!\n",
    "print('evaluated:', evaluated)"
   ]
  },
  {
   "cell_type": "code",
   "execution_count": 10,
   "metadata": {},
   "outputs": [
    {
     "data": {
      "text/plain": [
       "[1, 2, 3, 5, 8, 13, 21, 34, 55, 89]"
      ]
     },
     "execution_count": 10,
     "metadata": {},
     "output_type": "execute_result"
    }
   ],
   "source": [
    "def fibonacci():\n",
    "    a, b = 1, 1\n",
    "    while True:\n",
    "        yield a\n",
    "        a, b = a + b, a\n",
    "\n",
    "# we only compute the terms we need\n",
    "take(10, fibonacci())"
   ]
  },
  {
   "cell_type": "markdown",
   "metadata": {},
   "source": [
    "#### Exercises"
   ]
  },
  {
   "cell_type": "code",
   "execution_count": 11,
   "metadata": {},
   "outputs": [
    {
     "data": {
      "text/plain": [
       "[None]"
      ]
     },
     "execution_count": 11,
     "metadata": {},
     "output_type": "execute_result"
    }
   ],
   "source": [
    "# Implement a generator yielding 'A', 'B', 'C', 'A', 'B', ...\n",
    "\n",
    "def abc_generator():\n",
    "    yield None\n",
    "\n",
    "take(5, abc_generator())  # should be ['A', 'B', 'C', 'A', 'B']"
   ]
  },
  {
   "cell_type": "code",
   "execution_count": 12,
   "metadata": {},
   "outputs": [],
   "source": [
    "# Implement take without using itertools.islice\n",
    "\n",
    "def my_take(n, iterator):\n",
    "    pass\n",
    "\n",
    "my_take(5, itertools.count())  # should be [0, 1, 2, 3, 4]"
   ]
  },
  {
   "cell_type": "code",
   "execution_count": 13,
   "metadata": {},
   "outputs": [
    {
     "data": {
      "text/plain": [
       "[None]"
      ]
     },
     "execution_count": 13,
     "metadata": {},
     "output_type": "execute_result"
    }
   ],
   "source": [
    "# Implement an infinte fizzbuzz\n",
    "\n",
    "def fizzbuzz():\n",
    "    yield None\n",
    "\n",
    "expected = [\n",
    "    1,\n",
    "    2,\n",
    "    'fizz',\n",
    "    4,\n",
    "    'buzz',\n",
    "    'fizz',\n",
    "    7,\n",
    "    8,\n",
    "    'fizz',\n",
    "    'buzz',\n",
    "    11,\n",
    "    'fizz',\n",
    "    13,\n",
    "    14,\n",
    "    'fizzbuzz',\n",
    "]\n",
    "\n",
    "take(15, fizzbuzz())  # should be == expected"
   ]
  },
  {
   "cell_type": "markdown",
   "metadata": {},
   "source": [
    "## Iterators\n",
    "\n",
    "Basically everything you can loop on:"
   ]
  },
  {
   "cell_type": "code",
   "execution_count": 14,
   "metadata": {},
   "outputs": [
    {
     "name": "stdout",
     "output_type": "stream",
     "text": [
      "H\n",
      "e\n",
      "l\n",
      "l\n",
      "o\n"
     ]
    }
   ],
   "source": [
    "# A string:\n",
    "for c in 'Hello':\n",
    "    print(c)"
   ]
  },
  {
   "cell_type": "code",
   "execution_count": 15,
   "metadata": {},
   "outputs": [
    {
     "name": "stdout",
     "output_type": "stream",
     "text": [
      "5\n",
      "7\n",
      "1\n",
      "0\n"
     ]
    }
   ],
   "source": [
    "# A list:\n",
    "for i in [5, 7, 1, 0]:\n",
    "    print(i)"
   ]
  },
  {
   "cell_type": "code",
   "execution_count": 16,
   "metadata": {},
   "outputs": [
    {
     "name": "stdout",
     "output_type": "stream",
     "text": [
      "0\n",
      "1\n",
      "2\n",
      "3\n"
     ]
    }
   ],
   "source": [
    "# A range:\n",
    "for i in range(4):\n",
    "    print(i)"
   ]
  },
  {
   "cell_type": "code",
   "execution_count": 17,
   "metadata": {},
   "outputs": [
    {
     "name": "stdout",
     "output_type": "stream",
     "text": [
      "6\n",
      "8\n",
      "9\n"
     ]
    }
   ],
   "source": [
    "# A tuple:\n",
    "for i in (6, 8, 9):\n",
    "    print(i)"
   ]
  },
  {
   "cell_type": "code",
   "execution_count": 18,
   "metadata": {},
   "outputs": [
    {
     "name": "stdout",
     "output_type": "stream",
     "text": [
      "1\n",
      "2\n",
      "3\n",
      "4\n"
     ]
    }
   ],
   "source": [
    "# A set:\n",
    "for i in {1, 2, 3, 4}:\n",
    "    print(i)"
   ]
  },
  {
   "cell_type": "code",
   "execution_count": 19,
   "metadata": {},
   "outputs": [
    {
     "name": "stdout",
     "output_type": "stream",
     "text": [
      "start\n",
      "0\n",
      "1\n",
      "2\n",
      "end\n"
     ]
    }
   ],
   "source": [
    "# A generator:\n",
    "for i in my_generator_func():\n",
    "    print(i)"
   ]
  },
  {
   "cell_type": "code",
   "execution_count": 20,
   "metadata": {},
   "outputs": [
    {
     "name": "stdout",
     "output_type": "stream",
     "text": [
      "b'\\xd09\\xbf\\x02\\xda'\n",
      "b'\\xb1y\\xfd\\x1c\\xb8'\n",
      "b'_\\x87\\x98\\xf9\\xfb'\n"
     ]
    }
   ],
   "source": [
    "# but also real-world examples: a file, a database cursor...\n",
    "i = 0\n",
    "with open('/dev/random', 'rb') as f:\n",
    "    for chunk in f:\n",
    "        i += 1\n",
    "        print(chunk[:5])\n",
    "        if i > 2:\n",
    "            break"
   ]
  },
  {
   "cell_type": "markdown",
   "metadata": {},
   "source": [
    "> BTW, you never do this in python. Use `enumerate`!"
   ]
  },
  {
   "cell_type": "code",
   "execution_count": 21,
   "metadata": {},
   "outputs": [
    {
     "name": "stdout",
     "output_type": "stream",
     "text": [
      "b'\\x9a\\xe5\\xe9\\xbds'\n",
      "b'\\xe4\\xe1\\x8b7\\xa8'\n",
      "b')\\xd4}\\x90\\xe3'\n",
      "b'\\x8d\\x04\\xeb\\xc4S'\n"
     ]
    }
   ],
   "source": [
    "# use enumerate(iterator) to get a new iterator with the index\n",
    "with open('/dev/random', 'rb') as f:\n",
    "    for i, chunk in enumerate(f):\n",
    "        print(chunk[:5])\n",
    "        if i > 2:\n",
    "            break"
   ]
  },
  {
   "cell_type": "markdown",
   "metadata": {},
   "source": [
    "### Pro-tip: the list constructor\n",
    "\n",
    "You can use the list constructor on any (non-infinite) iterator to see all its elements:"
   ]
  },
  {
   "cell_type": "code",
   "execution_count": 22,
   "metadata": {},
   "outputs": [
    {
     "data": {
      "text/plain": [
       "['H', 'e', 'l', 'l', 'o']"
      ]
     },
     "execution_count": 22,
     "metadata": {},
     "output_type": "execute_result"
    }
   ],
   "source": [
    "# a string:\n",
    "list('Hello')"
   ]
  },
  {
   "cell_type": "code",
   "execution_count": 23,
   "metadata": {},
   "outputs": [
    {
     "data": {
      "text/plain": [
       "[5, 7, 1, 0]"
      ]
     },
     "execution_count": 23,
     "metadata": {},
     "output_type": "execute_result"
    }
   ],
   "source": [
    "# a list:\n",
    "list([5, 7, 1, 0])"
   ]
  },
  {
   "cell_type": "code",
   "execution_count": 24,
   "metadata": {},
   "outputs": [
    {
     "data": {
      "text/plain": [
       "[0, 1, 2, 3]"
      ]
     },
     "execution_count": 24,
     "metadata": {},
     "output_type": "execute_result"
    }
   ],
   "source": [
    "# a range:\n",
    "list(range(4))"
   ]
  },
  {
   "cell_type": "code",
   "execution_count": 25,
   "metadata": {},
   "outputs": [
    {
     "data": {
      "text/plain": [
       "[6, 8, 9]"
      ]
     },
     "execution_count": 25,
     "metadata": {},
     "output_type": "execute_result"
    }
   ],
   "source": [
    "# a tuple:\n",
    "list((6, 8, 9))"
   ]
  },
  {
   "cell_type": "code",
   "execution_count": 26,
   "metadata": {},
   "outputs": [
    {
     "data": {
      "text/plain": [
       "[1, 2, 3, 4]"
      ]
     },
     "execution_count": 26,
     "metadata": {},
     "output_type": "execute_result"
    }
   ],
   "source": [
    "# a set:\n",
    "list({1, 2, 3, 4})"
   ]
  },
  {
   "cell_type": "code",
   "execution_count": 27,
   "metadata": {},
   "outputs": [
    {
     "data": {
      "text/plain": [
       "['start', 0, 1, 2, 'end']"
      ]
     },
     "execution_count": 27,
     "metadata": {},
     "output_type": "execute_result"
    }
   ],
   "source": [
    "# a generator:\n",
    "list(my_generator_func())"
   ]
  },
  {
   "cell_type": "code",
   "execution_count": 28,
   "metadata": {},
   "outputs": [
    {
     "data": {
      "text/plain": [
       "[(0, 'p'), (1, 'y'), (2, 't'), (3, 'h'), (4, 'o'), (5, 'n')]"
      ]
     },
     "execution_count": 28,
     "metadata": {},
     "output_type": "execute_result"
    }
   ],
   "source": [
    "# an enumerate:\n",
    "list(enumerate('python'))"
   ]
  },
  {
   "cell_type": "markdown",
   "metadata": {},
   "source": [
    "### Pro-tip: use constructors for casting!\n",
    "\n",
    "You can use other constructors on any iterator (simple casting)"
   ]
  },
  {
   "cell_type": "code",
   "execution_count": 29,
   "metadata": {},
   "outputs": [
    {
     "data": {
      "text/plain": [
       "(0, 1, 2, 3, 4)"
      ]
     },
     "execution_count": 29,
     "metadata": {},
     "output_type": "execute_result"
    }
   ],
   "source": [
    "# a tuple:\n",
    "tuple(range(5))"
   ]
  },
  {
   "cell_type": "code",
   "execution_count": 30,
   "metadata": {},
   "outputs": [
    {
     "data": {
      "text/plain": [
       "{'D', 'S', 'g', 'n', 'o', 'p', 'y'}"
      ]
     },
     "execution_count": 30,
     "metadata": {},
     "output_type": "execute_result"
    }
   ],
   "source": [
    "# a set:\n",
    "set('SnoopDoggyDog')"
   ]
  },
  {
   "cell_type": "code",
   "execution_count": 31,
   "metadata": {},
   "outputs": [
    {
     "data": {
      "text/plain": [
       "{1: 3, 4: 9}"
      ]
     },
     "execution_count": 31,
     "metadata": {},
     "output_type": "execute_result"
    }
   ],
   "source": [
    "# a dict (iterator of tuples):\n",
    "dict([(1, 3), (4, 9)])"
   ]
  },
  {
   "cell_type": "code",
   "execution_count": 32,
   "metadata": {},
   "outputs": [
    {
     "data": {
      "text/plain": [
       "{0: 'h', 1: 'e', 2: 'l', 3: 'l', 4: 'o'}"
      ]
     },
     "execution_count": 32,
     "metadata": {},
     "output_type": "execute_result"
    }
   ],
   "source": [
    "# a dict (again:\n",
    "dict(enumerate('hello'))"
   ]
  },
  {
   "cell_type": "markdown",
   "metadata": {},
   "source": [
    "### Pro-tip: Use list-comprehensions!\n",
    "\n",
    "1. Less code, clearer code\n",
    "2. Better performance!\n",
    "3. They are idiomatic of good python code (i.e. they are \"pythonic\")"
   ]
  },
  {
   "cell_type": "code",
   "execution_count": 33,
   "metadata": {},
   "outputs": [],
   "source": [
    "def next_ascii_char(c):\n",
    "    \"\"\"\n",
    "    A simple function we'll use below to illustrate\n",
    "    \"\"\"\n",
    "    return chr(ord(c) + 1)"
   ]
  },
  {
   "cell_type": "code",
   "execution_count": 34,
   "metadata": {},
   "outputs": [
    {
     "data": {
      "text/plain": [
       "['I', 'f', 'm', 'm', 'p']"
      ]
     },
     "execution_count": 34,
     "metadata": {},
     "output_type": "execute_result"
    }
   ],
   "source": [
    "# same as the \"map\" function\n",
    "[next_ascii_char(c) for c in 'Hello']"
   ]
  },
  {
   "cell_type": "code",
   "execution_count": 35,
   "metadata": {},
   "outputs": [
    {
     "data": {
      "text/plain": [
       "['H', 'e', 'o']"
      ]
     },
     "execution_count": 35,
     "metadata": {},
     "output_type": "execute_result"
    }
   ],
   "source": [
    "# same as the \"filter\" function\n",
    "[c for c in 'Hello' if c != 'l']"
   ]
  },
  {
   "cell_type": "code",
   "execution_count": 36,
   "metadata": {},
   "outputs": [
    {
     "data": {
      "text/plain": [
       "['I', 'f', 'p']"
      ]
     },
     "execution_count": 36,
     "metadata": {},
     "output_type": "execute_result"
    }
   ],
   "source": [
    "# filter & map at the same time\n",
    "[next_ascii_char(c) for c in 'Hello' if c != 'l']"
   ]
  },
  {
   "cell_type": "code",
   "execution_count": 37,
   "metadata": {},
   "outputs": [
    {
     "data": {
      "text/plain": [
       "['pierre@gmail.com',\n",
       " 'pierre@hotmail.com',\n",
       " 'pierre@yopmail.com',\n",
       " 'paul@gmail.com',\n",
       " 'paul@hotmail.com',\n",
       " 'paul@yopmail.com',\n",
       " 'jack@gmail.com',\n",
       " 'jack@hotmail.com',\n",
       " 'jack@yopmail.com']"
      ]
     },
     "execution_count": 37,
     "metadata": {},
     "output_type": "execute_result"
    }
   ],
   "source": [
    "# two nested loops - not necessary a good idea ;)\n",
    "emails = [f'{x}@{y}' for x in ['pierre', 'paul', 'jack'] for y in ['gmail.com', 'hotmail.com', 'yopmail.com']]\n",
    "emails"
   ]
  },
  {
   "cell_type": "markdown",
   "metadata": {},
   "source": [
    "> This kind of small loops are:\n",
    "- less pythonic\n",
    "- less performant\n",
    "- more verbose\n",
    "- less readable"
   ]
  },
  {
   "cell_type": "markdown",
   "metadata": {},
   "source": [
    "### It's not just *list* comprehensions!"
   ]
  },
  {
   "cell_type": "code",
   "execution_count": 38,
   "metadata": {},
   "outputs": [
    {
     "data": {
      "text/plain": [
       "{72: 'H', 101: 'e', 108: 'l', 111: 'o'}"
      ]
     },
     "execution_count": 38,
     "metadata": {},
     "output_type": "execute_result"
    }
   ],
   "source": [
    "# dict comprehensions:\n",
    "{ord(c): c for c in 'Hello'}"
   ]
  },
  {
   "cell_type": "code",
   "execution_count": 39,
   "metadata": {},
   "outputs": [
    {
     "data": {
      "text/plain": [
       "{72: 'H', 101: 'e', 108: 'l', 111: 'o'}"
      ]
     },
     "execution_count": 39,
     "metadata": {},
     "output_type": "execute_result"
    }
   ],
   "source": [
    "# dict comprehensions:\n",
    "{ord(c): c for c in 'Hello'}"
   ]
  },
  {
   "cell_type": "code",
   "execution_count": 40,
   "metadata": {},
   "outputs": [
    {
     "data": {
      "text/plain": [
       "{1, 2, 4, 5, 7}"
      ]
     },
     "execution_count": 40,
     "metadata": {},
     "output_type": "execute_result"
    }
   ],
   "source": [
    "# set comprehensions:\n",
    "{i for i in range(8) if i % 3}"
   ]
  },
  {
   "cell_type": "code",
   "execution_count": 41,
   "metadata": {},
   "outputs": [
    {
     "data": {
      "text/plain": [
       "<generator object <genexpr> at 0x10f386eb8>"
      ]
     },
     "execution_count": 41,
     "metadata": {},
     "output_type": "execute_result"
    }
   ],
   "source": [
    "# Generator comprehensions:\n",
    "all_ints_with_one = (i for i in itertools.count() if '1' in str(i))\n",
    "\n",
    "all_ints_with_one # not evaluated here"
   ]
  },
  {
   "cell_type": "code",
   "execution_count": 42,
   "metadata": {},
   "outputs": [
    {
     "data": {
      "text/plain": [
       "[1, 10, 11, 12, 13, 14, 15, 16, 17, 18, 19, 21, 31, 41, 51]"
      ]
     },
     "execution_count": 42,
     "metadata": {},
     "output_type": "execute_result"
    }
   ],
   "source": [
    "# evaluated lazily!\n",
    "take(15, all_ints_with_one)  # replay this block"
   ]
  },
  {
   "cell_type": "markdown",
   "metadata": {},
   "source": [
    "### Anti-pattern: never do this for simple loops!"
   ]
  },
  {
   "cell_type": "code",
   "execution_count": 43,
   "metadata": {},
   "outputs": [
    {
     "data": {
      "text/plain": [
       "['PIDGET', 'EAGLE', 'FALCON', 'PIDGET']"
      ]
     },
     "execution_count": 43,
     "metadata": {},
     "output_type": "execute_result"
    }
   ],
   "source": [
    "birds = ('pidget', 'eagle', 'falcon', 'pidget')  # some iterator\n",
    "\n",
    "# ugly golang-style ;)\n",
    "results = []\n",
    "for bird in birds:\n",
    "    results.append(bird.upper())\n",
    "    \n",
    "results"
   ]
  },
  {
   "cell_type": "code",
   "execution_count": 44,
   "metadata": {},
   "outputs": [
    {
     "data": {
      "text/plain": [
       "{'EAGLE', 'FALCON', 'PIDGET'}"
      ]
     },
     "execution_count": 44,
     "metadata": {},
     "output_type": "execute_result"
    }
   ],
   "source": [
    "# or even worse: ugly C-style ;)\n",
    "results = set()\n",
    "for i in range(len(birds)):\n",
    "    results.add(birds[i].upper())\n",
    "    \n",
    "results"
   ]
  },
  {
   "cell_type": "markdown",
   "metadata": {},
   "source": [
    "### Another typical examples: welcome `str.join`!\n",
    "\n",
    "- unlike JS, defined in the string and not the array\n",
    "- makes sense because not restricted to arrays!\n",
    "- works on any `Sequence[str]`"
   ]
  },
  {
   "cell_type": "code",
   "execution_count": 45,
   "metadata": {},
   "outputs": [
    {
     "data": {
      "text/plain": [
       "'A-B-C-D-E-F'"
      ]
     },
     "execution_count": 45,
     "metadata": {},
     "output_type": "execute_result"
    }
   ],
   "source": [
    "'-'.join('ABCDEF')  # a str is a sequence of chars that are themselves str"
   ]
  },
  {
   "cell_type": "code",
   "execution_count": 46,
   "metadata": {},
   "outputs": [
    {
     "data": {
      "text/plain": [
       "'First,Second,Third'"
      ]
     },
     "execution_count": 46,
     "metadata": {},
     "output_type": "execute_result"
    }
   ],
   "source": [
    "','.join(['First', 'Second', 'Third'])  # a list"
   ]
  },
  {
   "cell_type": "code",
   "execution_count": 47,
   "metadata": {},
   "outputs": [
    {
     "data": {
      "text/plain": [
       "'YouaretearingmeappartLisa'"
      ]
     },
     "execution_count": 47,
     "metadata": {},
     "output_type": "execute_result"
    }
   ],
   "source": [
    "''.join('You are tearing me appart Lisa'.split())  # another list"
   ]
  },
  {
   "cell_type": "code",
   "execution_count": 48,
   "metadata": {},
   "outputs": [
    {
     "data": {
      "text/plain": [
       "'First,Third'"
      ]
     },
     "execution_count": 48,
     "metadata": {},
     "output_type": "execute_result"
    }
   ],
   "source": [
    "# even with a generator comprehension:\n",
    "','.join(s for s in ['First', 'Second', 'Third'] if 'i' in s)"
   ]
  },
  {
   "cell_type": "markdown",
   "metadata": {},
   "source": [
    "### Pro-tip: A lot of functions take any iterator (not a list)"
   ]
  },
  {
   "cell_type": "code",
   "execution_count": 49,
   "metadata": {},
   "outputs": [
    {
     "data": {
      "text/plain": [
       "['A', 'e', 'e', 'm', 'o', 's', 'w']"
      ]
     },
     "execution_count": 49,
     "metadata": {},
     "output_type": "execute_result"
    }
   ],
   "source": [
    "sorted('Awesome')"
   ]
  },
  {
   "cell_type": "code",
   "execution_count": 50,
   "metadata": {},
   "outputs": [
    {
     "data": {
      "text/plain": [
       "['e', 'm', 'o', 's', 'e', 'w', 'A']"
      ]
     },
     "execution_count": 50,
     "metadata": {},
     "output_type": "execute_result"
    }
   ],
   "source": [
    "list(reversed('Awesome'))"
   ]
  },
  {
   "cell_type": "code",
   "execution_count": 51,
   "metadata": {},
   "outputs": [
    {
     "data": {
      "text/plain": [
       "<reversed at 0x10f3ccba8>"
      ]
     },
     "execution_count": 51,
     "metadata": {},
     "output_type": "execute_result"
    }
   ],
   "source": [
    "# lazy iterator as well:\n",
    "reversed('Awesome')"
   ]
  },
  {
   "cell_type": "markdown",
   "metadata": {},
   "source": [
    "#### Exercises"
   ]
  },
  {
   "cell_type": "code",
   "execution_count": 52,
   "metadata": {},
   "outputs": [],
   "source": [
    "# How many distinct characters in a phrase?\n",
    "# (should ignore the case: 'A' and 'a' should be counted as the same char)\n",
    "\n",
    "def distinct_chars(s):\n",
    "    pass\n",
    "\n",
    "distinct_chars('This Is A Really Long String') # should be 13"
   ]
  },
  {
   "cell_type": "code",
   "execution_count": 53,
   "metadata": {},
   "outputs": [],
   "source": [
    "# Remove all words that are smaller than n characters\n",
    "def remove_small_words(s, n):\n",
    "    pass\n",
    "\n",
    "remove_small_words('What the hell are you doing', 3) # should be 'What hell doing'"
   ]
  },
  {
   "cell_type": "code",
   "execution_count": 54,
   "metadata": {},
   "outputs": [],
   "source": [
    "# Create a string in the shape 1-2-3-4...\n",
    "def generate_int_list_string(n):\n",
    "    pass\n",
    "\n",
    "generate_int_list_string(5) # should be '1-2-3-4-5'"
   ]
  },
  {
   "cell_type": "markdown",
   "metadata": {},
   "source": [
    "## Decorators"
   ]
  },
  {
   "cell_type": "code",
   "execution_count": 55,
   "metadata": {},
   "outputs": [],
   "source": [
    "# just a function taking a function as argument (and usually returning a function)\n",
    "def my_decorator(fn):\n",
    "    def decorated_fn(*args, **kwargs):\n",
    "        print('args:', args, 'kwargs:', kwargs)\n",
    "        result = fn(*args, **kwargs)\n",
    "        print('result:', result)\n",
    "        return result\n",
    "    return decorated_fn"
   ]
  },
  {
   "cell_type": "code",
   "execution_count": 56,
   "metadata": {},
   "outputs": [
    {
     "name": "stdout",
     "output_type": "stream",
     "text": [
      "args: (55,) kwargs: {'y': 1}\n",
      "x: 55 y: 1\n",
      "result: 111\n"
     ]
    },
    {
     "data": {
      "text/plain": [
       "111"
      ]
     },
     "execution_count": 56,
     "metadata": {},
     "output_type": "execute_result"
    }
   ],
   "source": [
    "# without synctactic sugar\n",
    "\n",
    "def func1(x, y):\n",
    "    print('x:', x, 'y:', y)\n",
    "    return 2 * x + y\n",
    "\n",
    "func1 = my_decorator(func1)\n",
    "\n",
    "func1(55, y=1)"
   ]
  },
  {
   "cell_type": "code",
   "execution_count": 57,
   "metadata": {},
   "outputs": [
    {
     "name": "stdout",
     "output_type": "stream",
     "text": [
      "args: (55,) kwargs: {'y': 1}\n",
      "x: 55 y: 1\n",
      "result: 111\n"
     ]
    },
    {
     "data": {
      "text/plain": [
       "111"
      ]
     },
     "execution_count": 57,
     "metadata": {},
     "output_type": "execute_result"
    }
   ],
   "source": [
    "# with synctactic sugar (exactly the same!)\n",
    "\n",
    "@my_decorator\n",
    "def func2(x, y):\n",
    "    print('x:', x, 'y:', y)\n",
    "    return 2 * x + y\n",
    "\n",
    "func2(55, y=1)"
   ]
  },
  {
   "cell_type": "markdown",
   "metadata": {},
   "source": [
    "> Don't confuse the syncatic sugar and the concept"
   ]
  },
  {
   "cell_type": "code",
   "execution_count": 58,
   "metadata": {},
   "outputs": [
    {
     "name": "stdout",
     "output_type": "stream",
     "text": [
      "decorated_fn\n",
      "decorated_fn\n",
      "<function my_decorator.<locals>.decorated_fn at 0x10f3b0b70>\n",
      "<function my_decorator.<locals>.decorated_fn at 0x10f3dd0d0>\n"
     ]
    }
   ],
   "source": [
    "# but we have some issues:\n",
    "print(func1.__name__)\n",
    "print(func2.__name__)\n",
    "print(func1)\n",
    "print(func2)"
   ]
  },
  {
   "cell_type": "code",
   "execution_count": 59,
   "metadata": {},
   "outputs": [],
   "source": [
    "# we'll need some help!\n",
    "from functools import wraps\n",
    "\n",
    "# functools.wraps is a base util to create clean decorators!"
   ]
  },
  {
   "cell_type": "code",
   "execution_count": 60,
   "metadata": {},
   "outputs": [
    {
     "name": "stdout",
     "output_type": "stream",
     "text": [
      "func3\n",
      "<function func3 at 0x10f3ddea0>\n"
     ]
    }
   ],
   "source": [
    "# just a function taking a function as argument (and returning a function)\n",
    "def my_decorator_wrapped(fn):\n",
    "    @wraps(fn)\n",
    "    def decorated_fn(*args, **kwargs):\n",
    "        print('args:', args, 'kwargs:', kwargs)\n",
    "        result = fn(*args, **kwargs)\n",
    "        print('result:', result)\n",
    "        return result\n",
    "    return decorated_fn\n",
    "\n",
    "@my_decorator_wrapped\n",
    "def func3(x, y):\n",
    "    \"\"\"\n",
    "    Solves all your problems.\n",
    "    Doubles everything.\n",
    "    \"\"\"\n",
    "    print('x:', x, 'y:', y)\n",
    "    return 2 * x + y\n",
    "\n",
    "# now we're fine!\n",
    "print(func3.__name__)\n",
    "print(func3)"
   ]
  },
  {
   "cell_type": "code",
   "execution_count": 61,
   "metadata": {},
   "outputs": [
    {
     "data": {
      "text/plain": [
       "'\\n    Solves all your problems.\\n    Doubles everything.\\n    '"
      ]
     },
     "execution_count": 61,
     "metadata": {},
     "output_type": "execute_result"
    }
   ],
   "source": [
    "# also keeps the docstring untouched:\n",
    "func3.__doc__"
   ]
  },
  {
   "cell_type": "code",
   "execution_count": 62,
   "metadata": {},
   "outputs": [
    {
     "name": "stdout",
     "output_type": "stream",
     "text": [
      "args: (32,) kwargs: {'y': 1}\n",
      "x: 32 y: 1\n",
      "result: 65\n"
     ]
    },
    {
     "data": {
      "text/plain": [
       "65"
      ]
     },
     "execution_count": 62,
     "metadata": {},
     "output_type": "execute_result"
    }
   ],
   "source": [
    "# the behaviour is unchanged\n",
    "func3(32, y=1)"
   ]
  },
  {
   "cell_type": "markdown",
   "metadata": {},
   "source": [
    "### Decorators != Decorator factories"
   ]
  },
  {
   "cell_type": "code",
   "execution_count": 63,
   "metadata": {},
   "outputs": [],
   "source": [
    "# a decorator: takes a function as parameter\n",
    "\n",
    "@my_decorator_wrapped\n",
    "def func4():\n",
    "    pass"
   ]
  },
  {
   "cell_type": "code",
   "execution_count": 64,
   "metadata": {},
   "outputs": [
    {
     "name": "stdout",
     "output_type": "stream",
     "text": [
      "before: my-name\n",
      "fn\n",
      "after: my-name\n"
     ]
    }
   ],
   "source": [
    "# a decorator factory: takes parameters and returns a decorator\n",
    "\n",
    "def my_decorator_factory(name):\n",
    "    def my_decorator(fn):\n",
    "        @wraps(fn)\n",
    "        def decorated_fn(*args, **kwargs):\n",
    "            print('before:', name)\n",
    "            result = fn(*args, **kwargs)\n",
    "            print('after:', name)\n",
    "            return result\n",
    "        return decorated_fn\n",
    "    return my_decorator\n",
    "\n",
    "@my_decorator_factory('my-name')\n",
    "def func5():\n",
    "    print('fn')\n",
    "\n",
    "func5()"
   ]
  },
  {
   "cell_type": "markdown",
   "metadata": {},
   "source": [
    "> `my_decorator_factory` is a decorator factory\n",
    "\n",
    "> `my_decorator_factory('my-name')` is a decorator\n",
    "\n",
    "> `my_decorator_factory('my-name')(some_function)` is a decorated function"
   ]
  },
  {
   "cell_type": "markdown",
   "metadata": {},
   "source": [
    "### Decorators don't have to return functions!"
   ]
  },
  {
   "cell_type": "code",
   "execution_count": 65,
   "metadata": {},
   "outputs": [
    {
     "name": "stdout",
     "output_type": "stream",
     "text": [
      "preparing...\n"
     ]
    },
    {
     "data": {
      "text/plain": [
       "'TOTO'"
      ]
     },
     "execution_count": 65,
     "metadata": {},
     "output_type": "execute_result"
    }
   ],
   "source": [
    "# \"fun\" example (don't use this!):\n",
    "\n",
    "def iife(fn):\n",
    "    \"\"\"\n",
    "    JS-like IIFE (Immediately Invoked Function Expressions)\n",
    "    \"\"\"\n",
    "    return fn()\n",
    "\n",
    "@iife\n",
    "def toto():\n",
    "    print('preparing...')\n",
    "    return 'toto'.upper()\n",
    "\n",
    "toto"
   ]
  },
  {
   "cell_type": "markdown",
   "metadata": {},
   "source": [
    "## Context managers"
   ]
  },
  {
   "cell_type": "code",
   "execution_count": 66,
   "metadata": {},
   "outputs": [
    {
     "name": "stdout",
     "output_type": "stream",
     "text": [
      "> before\n",
      "> finally\n",
      "name 'crash_because_not_defined' is not defined\n"
     ]
    }
   ],
   "source": [
    "# typical use case: manage resources (files, db connections...)\n",
    "# (think \"defer\" in golang, \"finally\" in JS/python)\n",
    "\n",
    "def crash():\n",
    "    print('> before')\n",
    "    \n",
    "    try:\n",
    "        crash_because_not_defined()\n",
    "    finally:\n",
    "        print('> finally')  # will be called\n",
    "\n",
    "    print('> after')  # will not be called\n",
    "\n",
    "try:\n",
    "    crash()\n",
    "except NameError as err:\n",
    "    print(err)"
   ]
  },
  {
   "cell_type": "code",
   "execution_count": 67,
   "metadata": {},
   "outputs": [],
   "source": [
    "# easily create your own manager with contextlib\n",
    "from contextlib import contextmanager\n",
    "\n",
    "# https://docs.python.org/3/library/contextlib.html#contextlib.contextmanager"
   ]
  },
  {
   "cell_type": "code",
   "execution_count": 68,
   "metadata": {},
   "outputs": [
    {
     "name": "stdout",
     "output_type": "stream",
     "text": [
      "> before\n",
      "> enter\n",
      "> got cm: MANAGUEUR\n",
      "name 'crash_because_not_defined' is not defined\n"
     ]
    }
   ],
   "source": [
    "@contextmanager\n",
    "def my_context_manager(name):\n",
    "    print('> enter')\n",
    "    yield name.upper()\n",
    "    print('> exit')\n",
    "    \n",
    "def crash():\n",
    "    print('> before')\n",
    "    with my_context_manager('managueur') as cm:\n",
    "        print(f'> got cm: {cm}')\n",
    "        crash_because_not_defined()\n",
    "\n",
    "    print('> after')  # will not be called\n",
    "\n",
    "try:\n",
    "    crash()\n",
    "except NameError as err:\n",
    "    print(err)"
   ]
  },
  {
   "cell_type": "code",
   "execution_count": 69,
   "metadata": {},
   "outputs": [
    {
     "name": "stdout",
     "output_type": "stream",
     "text": [
      "> before\n",
      "> enter the danger zone\n",
      "> got cm: THE DANGER ZONE\n",
      "> exit the danger zone\n",
      "name 'crash_because_not_defined' is not defined\n"
     ]
    }
   ],
   "source": [
    "# can also be done with a class implementing two methods: __enter__ & __exit__\n",
    "\n",
    "class MyContextManager:\n",
    "    def __init__(self, name):\n",
    "        self.name = name\n",
    "\n",
    "    def __enter__(self):\n",
    "        print(f'> enter {self.name}')\n",
    "        return self.name.upper()\n",
    "\n",
    "    def __exit__(self, *args):\n",
    "        print(f'> exit {self.name}')\n",
    "\n",
    "\n",
    "    \n",
    "def crash():\n",
    "    print('> before')\n",
    "    \n",
    "    with MyContextManager('the danger zone') as cm:\n",
    "        print(f'> got cm: {cm}')\n",
    "        crash_because_not_defined()\n",
    "\n",
    "    print('> after')  # will not be called\n",
    "\n",
    "try:\n",
    "    crash()\n",
    "except NameError as err:\n",
    "    print(err)"
   ]
  },
  {
   "cell_type": "code",
   "execution_count": 70,
   "metadata": {},
   "outputs": [
    {
     "data": {
      "text/plain": [
       "'pierre@gmail.com\\npierre@hotmail.com\\npierre@yopmail.com\\npaul@gmail.com\\npaul@hotmail.com\\npaul@yopmail.com\\njack@gmail.com\\njack@hotmail.com\\njack@yopmail.com\\n'"
      ]
     },
     "execution_count": 70,
     "metadata": {},
     "output_type": "execute_result"
    }
   ],
   "source": [
    "# real world example: open a file\n",
    "\n",
    "with open('/tmp/python_rocks.txt', 'w') as my_file:\n",
    "    for email in emails:\n",
    "        print(email, file=my_file)\n",
    "\n",
    "\n",
    "with open('/tmp/python_rocks.txt', 'r') as my_file:\n",
    "    saved = my_file.read()\n",
    "\n",
    "saved"
   ]
  },
  {
   "cell_type": "code",
   "execution_count": 71,
   "metadata": {},
   "outputs": [
    {
     "name": "stdout",
     "output_type": "stream",
     "text": [
      "I/O operation on closed file.\n"
     ]
    }
   ],
   "source": [
    "# the file is closed outside of the context manager (you shouldn't even access the variable...)\n",
    "try:\n",
    "    my_file.read()\n",
    "except ValueError as err:\n",
    "    print(err)"
   ]
  },
  {
   "cell_type": "code",
   "execution_count": 72,
   "metadata": {},
   "outputs": [
    {
     "name": "stdout",
     "output_type": "stream",
     "text": [
      "path: /var/folders/zv/mdh8jytn257dtlj6qknszfnm0000gp/T/tmpeywufrwr\n",
      "file_exists: True\n",
      "stored: b'Hello world!'\n",
      "file_exists: False\n"
     ]
    }
   ],
   "source": [
    "# another example: welcome tempfile!\n",
    "# extract from https://docs.python.org/3.6/library/tempfile.html#examples\n",
    "import tempfile\n",
    "import os\n",
    "\n",
    "with tempfile.NamedTemporaryFile() as fp:\n",
    "    fp.write(b'Hello world!')\n",
    "    temp_path = fp.name\n",
    "    print('path:', temp_path)\n",
    "    file_exists = os.path.isfile(temp_path)\n",
    "    print('file_exists:', file_exists)\n",
    "    fp.seek(0)\n",
    "    stored = fp.read()\n",
    "    print('stored:', stored)\n",
    "\n",
    "file_exists = os.path.isfile(temp_path)\n",
    "print('file_exists:', file_exists)"
   ]
  },
  {
   "cell_type": "markdown",
   "metadata": {},
   "source": [
    "## Error handling"
   ]
  },
  {
   "cell_type": "markdown",
   "metadata": {},
   "source": [
    "### Be specific\n",
    "\n",
    "Always catch the error you expect, close to where you expect it"
   ]
  },
  {
   "cell_type": "code",
   "execution_count": 73,
   "metadata": {},
   "outputs": [
    {
     "data": {
      "text/plain": [
       "[55, 'default_value', 'default_value']"
      ]
     },
     "execution_count": 73,
     "metadata": {},
     "output_type": "execute_result"
    }
   ],
   "source": [
    "def get_nested_key_safe(d: dict):\n",
    "    try:\n",
    "        return d['nested']['key']\n",
    "    except KeyError:\n",
    "        return 'default_value'\n",
    "\n",
    "[get_nested_key_safe(d) for d in [{'nested': {'key': 55}}, {'nested': {}}, {}]]"
   ]
  },
  {
   "cell_type": "markdown",
   "metadata": {},
   "source": [
    "### Let it raise\n",
    "\n",
    "Don't try/except something that is not supposed to happen, and you can't do anything intelligent about it"
   ]
  },
  {
   "cell_type": "code",
   "execution_count": 74,
   "metadata": {},
   "outputs": [
    {
     "name": "stdout",
     "output_type": "stream",
     "text": [
      "KeyError('nested',)\n"
     ]
    }
   ],
   "source": [
    " # if this is always supposed to be present, don't try to handle the case it isn't\n",
    "def get_nested_key(d: dict):\n",
    "    return d['nested']['key']\n",
    "\n",
    "try:\n",
    "    get_nested_key({})  # raises a very clear KeyError('nested')\n",
    "except Exception as err:\n",
    "    print(repr(err))"
   ]
  },
  {
   "cell_type": "code",
   "execution_count": 75,
   "metadata": {},
   "outputs": [
    {
     "name": "stdout",
     "output_type": "stream",
     "text": [
      "TypeError(\"'NoneType' object is not callable\",)\n"
     ]
    }
   ],
   "source": [
    "# the same is true for dict.get, which is a hidden try/except\n",
    "# it is not always relevant and often abused\n",
    "\n",
    "def get_nested_key_bad(d: dict):\n",
    "    return d.get('nested')('key')\n",
    "\n",
    "try:\n",
    "    get_nested_key_bad({})  # raises an impossible to exploit TypeError\n",
    "except Exception as err:\n",
    "    print(repr(err))"
   ]
  },
  {
   "cell_type": "markdown",
   "metadata": {},
   "source": [
    "### EAFP: Easier to Ask for Forgiveness than Permission\n",
    "\n",
    "More on this in the awesome [Python Anti-Patterns book](https://docs.quantifiedcode.com/python-anti-patterns/readability/asking_for_permission_instead_of_forgiveness_when_working_with_files.html)"
   ]
  },
  {
   "cell_type": "code",
   "execution_count": 76,
   "metadata": {},
   "outputs": [
    {
     "name": "stdout",
     "output_type": "stream",
     "text": [
      "fallbacking...\n"
     ]
    },
    {
     "data": {
      "text/plain": [
       "'SOME_DEFAULT'"
      ]
     },
     "execution_count": 76,
     "metadata": {},
     "output_type": "execute_result"
    }
   ],
   "source": [
    "# bad non-idiomatic implementation\n",
    "\n",
    "def bad_load_from_file(filename):\n",
    "    if os.path.isfile(filename):\n",
    "        with open(filename) as f:\n",
    "            return f.read()\n",
    "    else:\n",
    "        print('fallbacking...')\n",
    "        return 'SOME_DEFAULT'\n",
    "\n",
    "bad_load_from_file('/tmp/doesnotexist.txt')"
   ]
  },
  {
   "cell_type": "code",
   "execution_count": 77,
   "metadata": {},
   "outputs": [
    {
     "name": "stdout",
     "output_type": "stream",
     "text": [
      "fallbacking...\n"
     ]
    },
    {
     "data": {
      "text/plain": [
       "'SOME_DEFAULT'"
      ]
     },
     "execution_count": 77,
     "metadata": {},
     "output_type": "execute_result"
    }
   ],
   "source": [
    "# EAFP implementation\n",
    "\n",
    "def eafp_load_from_file(filename):\n",
    "    try:\n",
    "        with open(filename) as f:\n",
    "            return f.read()\n",
    "    except OSError:\n",
    "        print('fallbacking...')\n",
    "        return 'SOME_DEFAULT'\n",
    "\n",
    "eafp_load_from_file('/tmp/doesnotexist.txt')"
   ]
  },
  {
   "cell_type": "markdown",
   "metadata": {},
   "source": [
    "> Of course, not only a Python thing! This philosophy prevents race conditions!"
   ]
  },
  {
   "cell_type": "markdown",
   "metadata": {},
   "source": [
    "### Custom error handling (e.g. for business logic)"
   ]
  },
  {
   "cell_type": "code",
   "execution_count": 78,
   "metadata": {},
   "outputs": [
    {
     "data": {
      "text/plain": [
       "__main__.FooError(500)"
      ]
     },
     "execution_count": 78,
     "metadata": {},
     "output_type": "execute_result"
    }
   ],
   "source": [
    "# define your own error type inheriting from Exception:\n",
    "class FooError(Exception):\n",
    "    pass\n",
    "\n",
    "def foo():\n",
    "    raise FooError(500)\n",
    "\n",
    "err = None\n",
    "try:\n",
    "    foo()\n",
    "# catch regarding the exception types you expect:\n",
    "except FooError as e:\n",
    "    err = e\n",
    "\n",
    "err"
   ]
  }
 ],
 "metadata": {
  "kernelspec": {
   "display_name": "Python 3",
   "language": "python",
   "name": "python3"
  },
  "language_info": {
   "codemirror_mode": {
    "name": "ipython",
    "version": 3
   },
   "file_extension": ".py",
   "mimetype": "text/x-python",
   "name": "python",
   "nbconvert_exporter": "python",
   "pygments_lexer": "ipython3",
   "version": "3.6.4"
  }
 },
 "nbformat": 4,
 "nbformat_minor": 2
}
